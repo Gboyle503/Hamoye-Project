{
 "cells": [
  {
   "cell_type": "code",
   "execution_count": 1,
   "id": "d8ad6946",
   "metadata": {},
   "outputs": [],
   "source": [
    "import numpy as np"
   ]
  },
  {
   "cell_type": "code",
   "execution_count": 2,
   "id": "ae810a11",
   "metadata": {},
   "outputs": [],
   "source": [
    "import pandas as pd"
   ]
  },
  {
   "cell_type": "code",
   "execution_count": 3,
   "id": "771b8ac6",
   "metadata": {},
   "outputs": [],
   "source": [
    "import seaborn as sns"
   ]
  },
  {
   "cell_type": "code",
   "execution_count": 4,
   "id": "a331d043",
   "metadata": {},
   "outputs": [],
   "source": [
    "%matplotlib inline"
   ]
  },
  {
   "cell_type": "code",
   "execution_count": 5,
   "id": "e5ec1441",
   "metadata": {},
   "outputs": [],
   "source": [
    "nba= pd.read_csv('NBA Players Salaries 1920 (1).csv')"
   ]
  },
  {
   "cell_type": "code",
   "execution_count": 6,
   "id": "d4917ee2",
   "metadata": {},
   "outputs": [
    {
     "data": {
      "text/html": [
       "<div>\n",
       "<style scoped>\n",
       "    .dataframe tbody tr th:only-of-type {\n",
       "        vertical-align: middle;\n",
       "    }\n",
       "\n",
       "    .dataframe tbody tr th {\n",
       "        vertical-align: top;\n",
       "    }\n",
       "\n",
       "    .dataframe thead th {\n",
       "        text-align: right;\n",
       "    }\n",
       "</style>\n",
       "<table border=\"1\" class=\"dataframe\">\n",
       "  <thead>\n",
       "    <tr style=\"text-align: right;\">\n",
       "      <th></th>\n",
       "      <th>Rk</th>\n",
       "      <th>Player</th>\n",
       "      <th>Tm</th>\n",
       "      <th>2019-20</th>\n",
       "      <th>2020-21</th>\n",
       "      <th>2021-22</th>\n",
       "      <th>2022-23</th>\n",
       "      <th>2023-24</th>\n",
       "      <th>2024-25</th>\n",
       "      <th>Signed Using</th>\n",
       "      <th>Guaranteed</th>\n",
       "    </tr>\n",
       "  </thead>\n",
       "  <tbody>\n",
       "    <tr>\n",
       "      <th>0</th>\n",
       "      <td>1</td>\n",
       "      <td>Stephen Curry\\curryst01</td>\n",
       "      <td>GSW</td>\n",
       "      <td>40231758.00 $</td>\n",
       "      <td>43006362.00 $</td>\n",
       "      <td>45780966.00 $</td>\n",
       "      <td>NaN</td>\n",
       "      <td>NaN</td>\n",
       "      <td>NaN</td>\n",
       "      <td>Bird Rights</td>\n",
       "      <td>129019086.00 $</td>\n",
       "    </tr>\n",
       "    <tr>\n",
       "      <th>1</th>\n",
       "      <td>2</td>\n",
       "      <td>Chris Paul\\paulch01</td>\n",
       "      <td>OKC</td>\n",
       "      <td>38506482.00 $</td>\n",
       "      <td>41358814.00 $</td>\n",
       "      <td>44211146.00 $</td>\n",
       "      <td>NaN</td>\n",
       "      <td>NaN</td>\n",
       "      <td>NaN</td>\n",
       "      <td>Bird Rights</td>\n",
       "      <td>79865296.00 $</td>\n",
       "    </tr>\n",
       "    <tr>\n",
       "      <th>2</th>\n",
       "      <td>3</td>\n",
       "      <td>Russell Westbrook\\westbru01</td>\n",
       "      <td>HOU</td>\n",
       "      <td>38178000.00 $</td>\n",
       "      <td>41006000.00 $</td>\n",
       "      <td>43848000.00 $</td>\n",
       "      <td>46662000.00 $</td>\n",
       "      <td>NaN</td>\n",
       "      <td>NaN</td>\n",
       "      <td>Bird Rights</td>\n",
       "      <td>123032000.00 $</td>\n",
       "    </tr>\n",
       "    <tr>\n",
       "      <th>3</th>\n",
       "      <td>4</td>\n",
       "      <td>John Wall\\walljo01</td>\n",
       "      <td>WAS</td>\n",
       "      <td>37800000.00 $</td>\n",
       "      <td>40824000.00 $</td>\n",
       "      <td>43848000.00 $</td>\n",
       "      <td>46872000.00 $</td>\n",
       "      <td>NaN</td>\n",
       "      <td>NaN</td>\n",
       "      <td>Bird Rights</td>\n",
       "      <td>122472000.00 $</td>\n",
       "    </tr>\n",
       "    <tr>\n",
       "      <th>4</th>\n",
       "      <td>5</td>\n",
       "      <td>James Harden\\hardeja01</td>\n",
       "      <td>HOU</td>\n",
       "      <td>37800000.00 $</td>\n",
       "      <td>40824000.00 $</td>\n",
       "      <td>43848000.00 $</td>\n",
       "      <td>46872000.00 $</td>\n",
       "      <td>NaN</td>\n",
       "      <td>NaN</td>\n",
       "      <td>Bird Rights</td>\n",
       "      <td>122472000.00 $</td>\n",
       "    </tr>\n",
       "  </tbody>\n",
       "</table>\n",
       "</div>"
      ],
      "text/plain": [
       "   Rk                       Player   Tm        2019-20        2020-21  \\\n",
       "0   1      Stephen Curry\\curryst01  GSW  40231758.00 $  43006362.00 $   \n",
       "1   2          Chris Paul\\paulch01  OKC  38506482.00 $  41358814.00 $   \n",
       "2   3  Russell Westbrook\\westbru01  HOU  38178000.00 $  41006000.00 $   \n",
       "3   4           John Wall\\walljo01  WAS  37800000.00 $  40824000.00 $   \n",
       "4   5       James Harden\\hardeja01  HOU  37800000.00 $  40824000.00 $   \n",
       "\n",
       "         2021-22        2022-23 2023-24 2024-25 Signed Using      Guaranteed  \n",
       "0  45780966.00 $            NaN     NaN     NaN  Bird Rights  129019086.00 $  \n",
       "1  44211146.00 $            NaN     NaN     NaN  Bird Rights   79865296.00 $  \n",
       "2  43848000.00 $  46662000.00 $     NaN     NaN  Bird Rights  123032000.00 $  \n",
       "3  43848000.00 $  46872000.00 $     NaN     NaN  Bird Rights  122472000.00 $  \n",
       "4  43848000.00 $  46872000.00 $     NaN     NaN  Bird Rights  122472000.00 $  "
      ]
     },
     "execution_count": 6,
     "metadata": {},
     "output_type": "execute_result"
    }
   ],
   "source": [
    "nba.head()"
   ]
  },
  {
   "cell_type": "code",
   "execution_count": 7,
   "id": "1bfff622",
   "metadata": {},
   "outputs": [],
   "source": [
    "from skimpy import skim"
   ]
  },
  {
   "cell_type": "code",
   "execution_count": 8,
   "id": "c1876d6a",
   "metadata": {},
   "outputs": [
    {
     "data": {
      "text/html": [
       "<pre style=\"white-space:pre;overflow-x:auto;line-height:normal;font-family:Menlo,'DejaVu Sans Mono',consolas,'Courier New',monospace\">╭──────────────────────────────────────────────── skimpy summary ─────────────────────────────────────────────────╮\n",
       "│ <span style=\"font-style: italic\">         Data Summary         </span> <span style=\"font-style: italic\">      Data Types       </span>                                                          │\n",
       "│ ┏━━━━━━━━━━━━━━━━━━━┳━━━━━━━━┓ ┏━━━━━━━━━━━━━┳━━━━━━━┓                                                          │\n",
       "│ ┃<span style=\"color: #008080; text-decoration-color: #008080; font-weight: bold\"> dataframe         </span>┃<span style=\"color: #008080; text-decoration-color: #008080; font-weight: bold\"> Values </span>┃ ┃<span style=\"color: #008080; text-decoration-color: #008080; font-weight: bold\"> Column Type </span>┃<span style=\"color: #008080; text-decoration-color: #008080; font-weight: bold\"> Count </span>┃                                                          │\n",
       "│ ┡━━━━━━━━━━━━━━━━━━━╇━━━━━━━━┩ ┡━━━━━━━━━━━━━╇━━━━━━━┩                                                          │\n",
       "│ │ Number of rows    │ 568    │ │ string      │ 10    │                                                          │\n",
       "│ │ Number of columns │ 11     │ │ int32       │ 1     │                                                          │\n",
       "│ └───────────────────┴────────┘ └─────────────┴───────┘                                                          │\n",
       "│ <span style=\"font-style: italic\">                                                    number                                                    </span>  │\n",
       "│ ┏━━━━━━━━━━━━━━━━━━━━━┳━━━━━━━┳━━━━━━━━━━┳━━━━━━━━━━┳━━━━━━━━┳━━━━━━━┳━━━━━━━━┳━━━━━━━━┳━━━━━━━━━┳━━━━━━━━━━━┓  │\n",
       "│ ┃<span style=\"font-weight: bold\"> column_name         </span>┃<span style=\"font-weight: bold\"> NA    </span>┃<span style=\"font-weight: bold\"> NA %     </span>┃<span style=\"font-weight: bold\"> mean     </span>┃<span style=\"font-weight: bold\"> sd     </span>┃<span style=\"font-weight: bold\"> p0    </span>┃<span style=\"font-weight: bold\"> p25    </span>┃<span style=\"font-weight: bold\"> p75    </span>┃<span style=\"font-weight: bold\"> p100    </span>┃<span style=\"font-weight: bold\"> hist      </span>┃  │\n",
       "│ ┡━━━━━━━━━━━━━━━━━━━━━╇━━━━━━━╇━━━━━━━━━━╇━━━━━━━━━━╇━━━━━━━━╇━━━━━━━╇━━━━━━━━╇━━━━━━━━╇━━━━━━━━━╇━━━━━━━━━━━┩  │\n",
       "│ │ <span style=\"color: #af87ff; text-decoration-color: #af87ff\">Rk                 </span> │ <span style=\"color: #008080; text-decoration-color: #008080\">    0</span> │ <span style=\"color: #008080; text-decoration-color: #008080\">       0</span> │ <span style=\"color: #008080; text-decoration-color: #008080\">     280</span> │ <span style=\"color: #008080; text-decoration-color: #008080\">   160</span> │ <span style=\"color: #008080; text-decoration-color: #008080\">    1</span> │ <span style=\"color: #008080; text-decoration-color: #008080\">   140</span> │ <span style=\"color: #008080; text-decoration-color: #008080\">   430</span> │ <span style=\"color: #008080; text-decoration-color: #008080\">    570</span> │ <span style=\"color: #008000; text-decoration-color: #008000\"> ██████  </span> │  │\n",
       "│ └─────────────────────┴───────┴──────────┴──────────┴────────┴───────┴────────┴────────┴─────────┴───────────┘  │\n",
       "│ <span style=\"font-style: italic\">                                                    string                                                    </span>  │\n",
       "│ ┏━━━━━━━━━━━━━━━━━━━━━━━━━━━━┳━━━━━━━━━━┳━━━━━━━━━━━━┳━━━━━━━━━━━━━━━━━━━━━━━━━━━━━┳━━━━━━━━━━━━━━━━━━━━━━━━━┓  │\n",
       "│ ┃<span style=\"font-weight: bold\"> column_name                </span>┃<span style=\"font-weight: bold\"> NA       </span>┃<span style=\"font-weight: bold\"> NA %       </span>┃<span style=\"font-weight: bold\"> words per row               </span>┃<span style=\"font-weight: bold\"> total words             </span>┃  │\n",
       "│ ┡━━━━━━━━━━━━━━━━━━━━━━━━━━━━╇━━━━━━━━━━╇━━━━━━━━━━━━╇━━━━━━━━━━━━━━━━━━━━━━━━━━━━━╇━━━━━━━━━━━━━━━━━━━━━━━━━┩  │\n",
       "│ │ <span style=\"color: #af87ff; text-decoration-color: #af87ff\">Player                    </span> │ <span style=\"color: #008080; text-decoration-color: #008080\">       0</span> │ <span style=\"color: #008080; text-decoration-color: #008080\">         0</span> │ <span style=\"color: #008080; text-decoration-color: #008080\">                          2</span> │ <span style=\"color: #008080; text-decoration-color: #008080\">                   1100</span> │  │\n",
       "│ │ <span style=\"color: #af87ff; text-decoration-color: #af87ff\">Tm                        </span> │ <span style=\"color: #008080; text-decoration-color: #008080\">       0</span> │ <span style=\"color: #008080; text-decoration-color: #008080\">         0</span> │ <span style=\"color: #008080; text-decoration-color: #008080\">                          2</span> │ <span style=\"color: #008080; text-decoration-color: #008080\">                   1100</span> │  │\n",
       "│ │ <span style=\"color: #af87ff; text-decoration-color: #af87ff\">2019-20                   </span> │ <span style=\"color: #008080; text-decoration-color: #008080\">       0</span> │ <span style=\"color: #008080; text-decoration-color: #008080\">         0</span> │ <span style=\"color: #008080; text-decoration-color: #008080\">                          2</span> │ <span style=\"color: #008080; text-decoration-color: #008080\">                   1100</span> │  │\n",
       "│ │ <span style=\"color: #af87ff; text-decoration-color: #af87ff\">2020-21                   </span> │ <span style=\"color: #008080; text-decoration-color: #008080\">     220</span> │ <span style=\"color: #008080; text-decoration-color: #008080\">        39</span> │ <span style=\"color: #008080; text-decoration-color: #008080\">                          2</span> │ <span style=\"color: #008080; text-decoration-color: #008080\">                   1100</span> │  │\n",
       "│ │ <span style=\"color: #af87ff; text-decoration-color: #af87ff\">2021-22                   </span> │ <span style=\"color: #008080; text-decoration-color: #008080\">     360</span> │ <span style=\"color: #008080; text-decoration-color: #008080\">        64</span> │ <span style=\"color: #008080; text-decoration-color: #008080\">                          2</span> │ <span style=\"color: #008080; text-decoration-color: #008080\">                   1100</span> │  │\n",
       "│ │ <span style=\"color: #af87ff; text-decoration-color: #af87ff\">2022-23                   </span> │ <span style=\"color: #008080; text-decoration-color: #008080\">     470</span> │ <span style=\"color: #008080; text-decoration-color: #008080\">        83</span> │ <span style=\"color: #008080; text-decoration-color: #008080\">                          2</span> │ <span style=\"color: #008080; text-decoration-color: #008080\">                   1100</span> │  │\n",
       "│ │ <span style=\"color: #af87ff; text-decoration-color: #af87ff\">2023-24                   </span> │ <span style=\"color: #008080; text-decoration-color: #008080\">     550</span> │ <span style=\"color: #008080; text-decoration-color: #008080\">        96</span> │ <span style=\"color: #008080; text-decoration-color: #008080\">                          2</span> │ <span style=\"color: #008080; text-decoration-color: #008080\">                   1100</span> │  │\n",
       "│ │ <span style=\"color: #af87ff; text-decoration-color: #af87ff\">2024-25                   </span> │ <span style=\"color: #008080; text-decoration-color: #008080\">     560</span> │ <span style=\"color: #008080; text-decoration-color: #008080\">        99</span> │ <span style=\"color: #008080; text-decoration-color: #008080\">                          2</span> │ <span style=\"color: #008080; text-decoration-color: #008080\">                   1100</span> │  │\n",
       "│ │ <span style=\"color: #af87ff; text-decoration-color: #af87ff\">Signed Using              </span> │ <span style=\"color: #008080; text-decoration-color: #008080\">     110</span> │ <span style=\"color: #008080; text-decoration-color: #008080\">        20</span> │ <span style=\"color: #008080; text-decoration-color: #008080\">                          2</span> │ <span style=\"color: #008080; text-decoration-color: #008080\">                   1100</span> │  │\n",
       "│ │ <span style=\"color: #af87ff; text-decoration-color: #af87ff\">Guaranteed                </span> │ <span style=\"color: #008080; text-decoration-color: #008080\">       0</span> │ <span style=\"color: #008080; text-decoration-color: #008080\">         0</span> │ <span style=\"color: #008080; text-decoration-color: #008080\">                          2</span> │ <span style=\"color: #008080; text-decoration-color: #008080\">                   1100</span> │  │\n",
       "│ └────────────────────────────┴──────────┴────────────┴─────────────────────────────┴─────────────────────────┘  │\n",
       "╰────────────────────────────────────────────────────── End ──────────────────────────────────────────────────────╯\n",
       "</pre>\n"
      ],
      "text/plain": [
       "╭──────────────────────────────────────────────── skimpy summary ─────────────────────────────────────────────────╮\n",
       "│ \u001b[3m         Data Summary         \u001b[0m \u001b[3m      Data Types       \u001b[0m                                                          │\n",
       "│ ┏━━━━━━━━━━━━━━━━━━━┳━━━━━━━━┓ ┏━━━━━━━━━━━━━┳━━━━━━━┓                                                          │\n",
       "│ ┃\u001b[1;36m \u001b[0m\u001b[1;36mdataframe        \u001b[0m\u001b[1;36m \u001b[0m┃\u001b[1;36m \u001b[0m\u001b[1;36mValues\u001b[0m\u001b[1;36m \u001b[0m┃ ┃\u001b[1;36m \u001b[0m\u001b[1;36mColumn Type\u001b[0m\u001b[1;36m \u001b[0m┃\u001b[1;36m \u001b[0m\u001b[1;36mCount\u001b[0m\u001b[1;36m \u001b[0m┃                                                          │\n",
       "│ ┡━━━━━━━━━━━━━━━━━━━╇━━━━━━━━┩ ┡━━━━━━━━━━━━━╇━━━━━━━┩                                                          │\n",
       "│ │ Number of rows    │ 568    │ │ string      │ 10    │                                                          │\n",
       "│ │ Number of columns │ 11     │ │ int32       │ 1     │                                                          │\n",
       "│ └───────────────────┴────────┘ └─────────────┴───────┘                                                          │\n",
       "│ \u001b[3m                                                    number                                                    \u001b[0m  │\n",
       "│ ┏━━━━━━━━━━━━━━━━━━━━━┳━━━━━━━┳━━━━━━━━━━┳━━━━━━━━━━┳━━━━━━━━┳━━━━━━━┳━━━━━━━━┳━━━━━━━━┳━━━━━━━━━┳━━━━━━━━━━━┓  │\n",
       "│ ┃\u001b[1m \u001b[0m\u001b[1mcolumn_name        \u001b[0m\u001b[1m \u001b[0m┃\u001b[1m \u001b[0m\u001b[1mNA   \u001b[0m\u001b[1m \u001b[0m┃\u001b[1m \u001b[0m\u001b[1mNA %    \u001b[0m\u001b[1m \u001b[0m┃\u001b[1m \u001b[0m\u001b[1mmean    \u001b[0m\u001b[1m \u001b[0m┃\u001b[1m \u001b[0m\u001b[1msd    \u001b[0m\u001b[1m \u001b[0m┃\u001b[1m \u001b[0m\u001b[1mp0   \u001b[0m\u001b[1m \u001b[0m┃\u001b[1m \u001b[0m\u001b[1mp25   \u001b[0m\u001b[1m \u001b[0m┃\u001b[1m \u001b[0m\u001b[1mp75   \u001b[0m\u001b[1m \u001b[0m┃\u001b[1m \u001b[0m\u001b[1mp100   \u001b[0m\u001b[1m \u001b[0m┃\u001b[1m \u001b[0m\u001b[1mhist     \u001b[0m\u001b[1m \u001b[0m┃  │\n",
       "│ ┡━━━━━━━━━━━━━━━━━━━━━╇━━━━━━━╇━━━━━━━━━━╇━━━━━━━━━━╇━━━━━━━━╇━━━━━━━╇━━━━━━━━╇━━━━━━━━╇━━━━━━━━━╇━━━━━━━━━━━┩  │\n",
       "│ │ \u001b[38;5;141mRk                 \u001b[0m │ \u001b[36m    0\u001b[0m │ \u001b[36m       0\u001b[0m │ \u001b[36m     280\u001b[0m │ \u001b[36m   160\u001b[0m │ \u001b[36m    1\u001b[0m │ \u001b[36m   140\u001b[0m │ \u001b[36m   430\u001b[0m │ \u001b[36m    570\u001b[0m │ \u001b[32m ██████  \u001b[0m │  │\n",
       "│ └─────────────────────┴───────┴──────────┴──────────┴────────┴───────┴────────┴────────┴─────────┴───────────┘  │\n",
       "│ \u001b[3m                                                    string                                                    \u001b[0m  │\n",
       "│ ┏━━━━━━━━━━━━━━━━━━━━━━━━━━━━┳━━━━━━━━━━┳━━━━━━━━━━━━┳━━━━━━━━━━━━━━━━━━━━━━━━━━━━━┳━━━━━━━━━━━━━━━━━━━━━━━━━┓  │\n",
       "│ ┃\u001b[1m \u001b[0m\u001b[1mcolumn_name               \u001b[0m\u001b[1m \u001b[0m┃\u001b[1m \u001b[0m\u001b[1mNA      \u001b[0m\u001b[1m \u001b[0m┃\u001b[1m \u001b[0m\u001b[1mNA %      \u001b[0m\u001b[1m \u001b[0m┃\u001b[1m \u001b[0m\u001b[1mwords per row              \u001b[0m\u001b[1m \u001b[0m┃\u001b[1m \u001b[0m\u001b[1mtotal words            \u001b[0m\u001b[1m \u001b[0m┃  │\n",
       "│ ┡━━━━━━━━━━━━━━━━━━━━━━━━━━━━╇━━━━━━━━━━╇━━━━━━━━━━━━╇━━━━━━━━━━━━━━━━━━━━━━━━━━━━━╇━━━━━━━━━━━━━━━━━━━━━━━━━┩  │\n",
       "│ │ \u001b[38;5;141mPlayer                    \u001b[0m │ \u001b[36m       0\u001b[0m │ \u001b[36m         0\u001b[0m │ \u001b[36m                          2\u001b[0m │ \u001b[36m                   1100\u001b[0m │  │\n",
       "│ │ \u001b[38;5;141mTm                        \u001b[0m │ \u001b[36m       0\u001b[0m │ \u001b[36m         0\u001b[0m │ \u001b[36m                          2\u001b[0m │ \u001b[36m                   1100\u001b[0m │  │\n",
       "│ │ \u001b[38;5;141m2019-20                   \u001b[0m │ \u001b[36m       0\u001b[0m │ \u001b[36m         0\u001b[0m │ \u001b[36m                          2\u001b[0m │ \u001b[36m                   1100\u001b[0m │  │\n",
       "│ │ \u001b[38;5;141m2020-21                   \u001b[0m │ \u001b[36m     220\u001b[0m │ \u001b[36m        39\u001b[0m │ \u001b[36m                          2\u001b[0m │ \u001b[36m                   1100\u001b[0m │  │\n",
       "│ │ \u001b[38;5;141m2021-22                   \u001b[0m │ \u001b[36m     360\u001b[0m │ \u001b[36m        64\u001b[0m │ \u001b[36m                          2\u001b[0m │ \u001b[36m                   1100\u001b[0m │  │\n",
       "│ │ \u001b[38;5;141m2022-23                   \u001b[0m │ \u001b[36m     470\u001b[0m │ \u001b[36m        83\u001b[0m │ \u001b[36m                          2\u001b[0m │ \u001b[36m                   1100\u001b[0m │  │\n",
       "│ │ \u001b[38;5;141m2023-24                   \u001b[0m │ \u001b[36m     550\u001b[0m │ \u001b[36m        96\u001b[0m │ \u001b[36m                          2\u001b[0m │ \u001b[36m                   1100\u001b[0m │  │\n",
       "│ │ \u001b[38;5;141m2024-25                   \u001b[0m │ \u001b[36m     560\u001b[0m │ \u001b[36m        99\u001b[0m │ \u001b[36m                          2\u001b[0m │ \u001b[36m                   1100\u001b[0m │  │\n",
       "│ │ \u001b[38;5;141mSigned Using              \u001b[0m │ \u001b[36m     110\u001b[0m │ \u001b[36m        20\u001b[0m │ \u001b[36m                          2\u001b[0m │ \u001b[36m                   1100\u001b[0m │  │\n",
       "│ │ \u001b[38;5;141mGuaranteed                \u001b[0m │ \u001b[36m       0\u001b[0m │ \u001b[36m         0\u001b[0m │ \u001b[36m                          2\u001b[0m │ \u001b[36m                   1100\u001b[0m │  │\n",
       "│ └────────────────────────────┴──────────┴────────────┴─────────────────────────────┴─────────────────────────┘  │\n",
       "╰────────────────────────────────────────────────────── End ──────────────────────────────────────────────────────╯\n"
      ]
     },
     "metadata": {},
     "output_type": "display_data"
    }
   ],
   "source": [
    "skim(nba)"
   ]
  },
  {
   "cell_type": "code",
   "execution_count": 11,
   "id": "6b8f78de",
   "metadata": {},
   "outputs": [
    {
     "name": "stdout",
     "output_type": "stream",
     "text": [
      "Collecting pivottablejsNote: you may need to restart the kernel to use updated packages.\n",
      "\n",
      "  Downloading pivottablejs-0.9.0-py2.py3-none-any.whl (4.7 kB)\n",
      "Installing collected packages: pivottablejs\n",
      "Successfully installed pivottablejs-0.9.0\n"
     ]
    }
   ],
   "source": [
    "pip install pivottablejs\n"
   ]
  },
  {
   "cell_type": "code",
   "execution_count": 12,
   "id": "c31ada10",
   "metadata": {},
   "outputs": [],
   "source": [
    "from pivottablejs import pivot_ui\n"
   ]
  },
  {
   "cell_type": "code",
   "execution_count": 13,
   "id": "8da776c8",
   "metadata": {},
   "outputs": [
    {
     "data": {
      "text/html": [
       "\n",
       "        <iframe\n",
       "            width=\"100%\"\n",
       "            height=\"500\"\n",
       "            src=\"pivottablejs.html\"\n",
       "            frameborder=\"0\"\n",
       "            allowfullscreen\n",
       "            \n",
       "        ></iframe>\n",
       "        "
      ],
      "text/plain": [
       "<IPython.lib.display.IFrame at 0x1873f793820>"
      ]
     },
     "execution_count": 13,
     "metadata": {},
     "output_type": "execute_result"
    }
   ],
   "source": [
    "pivot_ui(nba)"
   ]
  },
  {
   "cell_type": "code",
   "execution_count": 14,
   "id": "a380a22c",
   "metadata": {},
   "outputs": [
    {
     "name": "stdout",
     "output_type": "stream",
     "text": [
      "<class 'pandas.core.frame.DataFrame'>\n",
      "RangeIndex: 568 entries, 0 to 567\n",
      "Data columns (total 11 columns):\n",
      " #   Column        Non-Null Count  Dtype \n",
      "---  ------        --------------  ----- \n",
      " 0   Rk            568 non-null    int64 \n",
      " 1   Player        568 non-null    object\n",
      " 2   Tm            568 non-null    object\n",
      " 3   2019-20       568 non-null    object\n",
      " 4   2020-21       349 non-null    object\n",
      " 5   2021-22       206 non-null    object\n",
      " 6   2022-23       96 non-null     object\n",
      " 7   2023-24       21 non-null     object\n",
      " 8   2024-25       3 non-null      object\n",
      " 9   Signed Using  455 non-null    object\n",
      " 10  Guaranteed    568 non-null    object\n",
      "dtypes: int64(1), object(10)\n",
      "memory usage: 48.9+ KB\n"
     ]
    }
   ],
   "source": [
    "nba.info()"
   ]
  },
  {
   "cell_type": "code",
   "execution_count": 20,
   "id": "f5798fa0",
   "metadata": {},
   "outputs": [
    {
     "data": {
      "text/plain": [
       "Rk                0\n",
       "Player            0\n",
       "Tm                0\n",
       "2019-20           0\n",
       "2020-21         219\n",
       "2021-22         362\n",
       "2022-23         472\n",
       "2023-24         547\n",
       "2024-25         565\n",
       "Signed Using    113\n",
       "Guaranteed        0\n",
       "dtype: int64"
      ]
     },
     "execution_count": 20,
     "metadata": {},
     "output_type": "execute_result"
    }
   ],
   "source": [
    "nba.isnull().sum()"
   ]
  },
  {
   "cell_type": "code",
   "execution_count": null,
   "id": "a232ef3b",
   "metadata": {},
   "outputs": [],
   "source": []
  }
 ],
 "metadata": {
  "kernelspec": {
   "display_name": "Python 3 (ipykernel)",
   "language": "python",
   "name": "python3"
  },
  "language_info": {
   "codemirror_mode": {
    "name": "ipython",
    "version": 3
   },
   "file_extension": ".py",
   "mimetype": "text/x-python",
   "name": "python",
   "nbconvert_exporter": "python",
   "pygments_lexer": "ipython3",
   "version": "3.9.12"
  },
  "toc": {
   "base_numbering": 1,
   "nav_menu": {},
   "number_sections": true,
   "sideBar": true,
   "skip_h1_title": false,
   "title_cell": "Table of Contents",
   "title_sidebar": "Contents",
   "toc_cell": false,
   "toc_position": {},
   "toc_section_display": true,
   "toc_window_display": false
  }
 },
 "nbformat": 4,
 "nbformat_minor": 5
}
